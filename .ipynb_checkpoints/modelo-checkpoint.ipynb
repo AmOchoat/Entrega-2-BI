{
  "nbformat": 4,
  "nbformat_minor": 0,
  "metadata": {
    "colab": {
      "name": "modelo.ipynb",
      "provenance": [],
      "collapsed_sections": []
    },
    "kernelspec": {
      "name": "python3",
      "display_name": "Python 3"
    },
    "language_info": {
      "name": "python"
    }
  },
  "cells": [
    {
      "cell_type": "code",
      "execution_count": 52,
      "metadata": {
        "id": "6DtiIOlCSw_k"
      },
      "outputs": [],
      "source": [
        "import pandas as pd\n",
        "from sklearn.tree import DecisionTreeClassifier\n",
        "from sklearn.model_selection import train_test_split\n",
        "from sklearn.metrics import confusion_matrix, classification_report, precision_score, recall_score, f1_score, accuracy_score\n",
        "from sklearn.model_selection import GridSearchCV\n",
        "from sklearn.model_selection import KFold \n",
        "import matplotlib.pyplot as plt\n",
        "import seaborn as sns \n",
        "from sklearn import tree"
      ]
    },
    {
      "cell_type": "code",
      "source": [
        "master = pd.read_csv('data/tabla_maestra.csv', sep=';', index_col=0)"
      ],
      "metadata": {
        "id": "6CJfcLamhuZd"
      },
      "execution_count": 42,
      "outputs": []
    },
    {
      "cell_type": "code",
      "source": [
        "df_class = master.drop(['num_casos', 'PIB', 'nombre', 'fecha', 'tipo_muerte', 'poblacion'], axis='columns')"
      ],
      "metadata": {
        "id": "QQXiMFLs7Q2g"
      },
      "execution_count": 43,
      "outputs": []
    },
    {
      "cell_type": "code",
      "source": [
        "for col in ('departamento', 'grupos_edad', 'capital', 'sexo'):\n",
        "  df_class = pd.merge(df_class, pd.get_dummies(df_class[col]), left_index=True, right_index=True, how='inner')\n",
        "  df_class.drop([col], axis='columns', inplace=True)\n",
        "\n",
        "df_class.drop([0, 1], axis='columns', inplace=True)"
      ],
      "metadata": {
        "id": "xNKhQHP7f1x_"
      },
      "execution_count": 44,
      "outputs": []
    },
    {
      "cell_type": "code",
      "source": [
        "X = df_class.drop(['violenta'], axis='columns')\n",
        "Y = df_class['violenta']"
      ],
      "metadata": {
        "id": "qKvgjnIQogqi"
      },
      "execution_count": 45,
      "outputs": []
    },
    {
      "cell_type": "code",
      "source": [
        "particiones = KFold(n_splits=10, shuffle=True, random_state = 0)"
      ],
      "metadata": {
        "id": "QxtWEkSCcJov"
      },
      "execution_count": 46,
      "outputs": []
    },
    {
      "cell_type": "code",
      "source": [
        "param_grid = {'criterion':['gini', 'entropy'],'max_depth':[4,6,8,10,20],'min_samples_split':[2, 3, 4, 5]}"
      ],
      "metadata": {
        "id": "dNM6H7ihcLu2"
      },
      "execution_count": 47,
      "outputs": []
    },
    {
      "cell_type": "code",
      "source": [
        "arbol = DecisionTreeClassifier(random_state=0)"
      ],
      "metadata": {
        "id": "U1YU5MOPcOJN"
      },
      "execution_count": 48,
      "outputs": []
    },
    {
      "cell_type": "code",
      "source": [
        "X_train, X_test, Y_train, Y_test = train_test_split(X, Y, test_size=0.2, random_state=0) "
      ],
      "metadata": {
        "id": "S2kJ_gKpcc0W"
      },
      "execution_count": 49,
      "outputs": []
    },
    {
      "cell_type": "code",
      "source": [
        "mejor_modelo = GridSearchCV(arbol, param_grid, cv=particiones)\n",
        "mejor_modelo.fit(X_train, Y_train)"
      ],
      "metadata": {
        "colab": {
          "base_uri": "https://localhost:8080/"
        },
        "id": "SrSD-esKcP9Y",
        "outputId": "aafb533a-56de-4cee-b190-15786877e7fa"
      },
      "execution_count": 50,
      "outputs": [
        {
          "output_type": "execute_result",
          "data": {
            "text/plain": [
              "GridSearchCV(cv=KFold(n_splits=10, random_state=0, shuffle=True),\n",
              "             estimator=DecisionTreeClassifier(random_state=0),\n",
              "             param_grid={'criterion': ['gini', 'entropy'],\n",
              "                         'max_depth': [4, 6, 8, 10, 20],\n",
              "                         'min_samples_split': [2, 3, 4, 5]})"
            ]
          },
          "metadata": {},
          "execution_count": 50
        }
      ]
    },
    {
      "cell_type": "code",
      "source": [
        "arbol_final = mejor_modelo.best_estimator_\n",
        "# Probemos ahora este modelo sobre test.\n",
        "y_pred_train = arbol_final.predict(X_train)\n",
        "y_pred_test = arbol_final.predict(X_test)\n",
        "print('Exactitud sobre entrenamiento: %.2f' % accuracy_score(Y_train, y_pred_train))\n",
        "print('Exactitud sobre test: %.2f' % accuracy_score(Y_test, y_pred_test))"
      ],
      "metadata": {
        "colab": {
          "base_uri": "https://localhost:8080/"
        },
        "id": "xvYYxNRZq_H1",
        "outputId": "76737676-f4b8-40ea-ce51-755ff4be06b7"
      },
      "execution_count": 53,
      "outputs": [
        {
          "output_type": "stream",
          "name": "stdout",
          "text": [
            "Exactitud sobre entrenamiento: 0.89\n",
            "Exactitud sobre test: 0.89\n"
          ]
        }
      ]
    }
  ]
}